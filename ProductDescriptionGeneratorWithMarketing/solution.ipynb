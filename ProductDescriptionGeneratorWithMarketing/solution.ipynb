{
 "cells": [
  {
   "cell_type": "code",
   "execution_count": 17,
   "id": "e57b6492",
   "metadata": {},
   "outputs": [
    {
     "data": {
      "text/plain": [
       "True"
      ]
     },
     "execution_count": 17,
     "metadata": {},
     "output_type": "execute_result"
    }
   ],
   "source": [
    "import os\n",
    "from dotenv import load_dotenv\n",
    "load_dotenv()"
   ]
  },
  {
   "cell_type": "code",
   "execution_count": 18,
   "id": "81df659d",
   "metadata": {},
   "outputs": [],
   "source": [
    "GROQ_APIKEY=os.getenv(\"GROQ_APIKEY\")"
   ]
  },
  {
   "cell_type": "code",
   "execution_count": 51,
   "id": "1436886f",
   "metadata": {},
   "outputs": [
    {
     "name": "stdout",
     "output_type": "stream",
     "text": [
      "\n",
      "You are a seasoned SEO specialist with deep expertise in digital sales and marketing copywriting.\n",
      "\n",
      "Your task is to craft a compelling, creative, and attention-grabbing product title that:\n",
      "- Begins with one or two bold, exclusive, and premium-sounding words that convey a sense of quality and effectiveness to the end user.\n",
      "- Clearly highlights the product’s key feature.\n",
      "- Appeals to the target audience’s emotions, needs, or desires.\n",
      "- Incorporates relevant keywords for optimal SEO visibility.\n",
      "- Is concise (preferably under 70 characters), yet impactful and engaging.\n",
      "\n",
      "Use the information below:\n",
      "- Product Name: News\n",
      "- Key Feature: Good Feature\n",
      "\n",
      "Respond with only the final product title as plain text—no formatting, explanations, or additional output.\n",
      "\n"
     ]
    }
   ],
   "source": [
    "from langchain_core.prompts import PromptTemplate\n",
    "\n",
    "templateOfTiTle='''\n",
    "You are a seasoned SEO specialist with deep expertise in digital sales and marketing copywriting.\n",
    "\n",
    "Your task is to craft a compelling, creative, and attention-grabbing product title that:\n",
    "- Begins with one or two bold, exclusive, and premium-sounding words that convey a sense of quality and effectiveness to the end user.\n",
    "- Clearly highlights the product’s key feature.\n",
    "- Appeals to the target audience’s emotions, needs, or desires.\n",
    "- Incorporates relevant keywords for optimal SEO visibility.\n",
    "- Is concise (preferably under 70 characters), yet impactful and engaging.\n",
    "\n",
    "Use the information below:\n",
    "- Product Name: {ProductName}\n",
    "- Key Feature: {ProductFeature}\n",
    "\n",
    "Respond with only the final product title as plain text—no formatting, explanations, or additional output.\n",
    "'''\n",
    "\n",
    "FinalTiTlePrompt=PromptTemplate(\n",
    "    input_variables=[\"ProductName\",\"ProductFeature\"],\n",
    "    template=templateOfTiTle,\n",
    ")\n",
    "\n",
    "print(FinalTiTlePrompt.format(ProductName=\"News\",ProductFeature=\"Good Feature\"))"
   ]
  },
  {
   "cell_type": "code",
   "execution_count": 30,
   "id": "95eae44e",
   "metadata": {},
   "outputs": [],
   "source": [
    "from langchain_groq import ChatGroq\n",
    "\n",
    "groqAiLLM=ChatGroq(\n",
    "    api_key=GROQ_APIKEY,\n",
    "    model=\"deepseek-r1-distill-llama-70b\",\n",
    "    temperature=0,\n",
    "    max_tokens=None,\n",
    "    reasoning_format=\"parsed\",\n",
    "    timeout=None,\n",
    "    max_retries=2,\n",
    ")"
   ]
  },
  {
   "cell_type": "code",
   "execution_count": null,
   "id": "5fdd5cc8",
   "metadata": {},
   "outputs": [],
   "source": [
    "chain=FinalTiTlePrompt| groqAiLLM\n",
    "\n",
    "resultChain1=chain.invoke({\n",
    "    \"ProductName\":\"Wireless Earbuds\",\n",
    "    \"ProductFeature\":\"Noise cancellation, 12-hour battery life, Bluetooth 5.3\"\n",
    "})"
   ]
  },
  {
   "cell_type": "code",
   "execution_count": 50,
   "id": "ea234c55",
   "metadata": {},
   "outputs": [
    {
     "data": {
      "text/plain": [
       "'\"Elite Wireless Earbuds - Noise Cancellation, 12-Hour Battery, Bluetooth 5.3\"'"
      ]
     },
     "execution_count": 50,
     "metadata": {},
     "output_type": "execute_result"
    }
   ],
   "source": [
    "resultChain1.content"
   ]
  },
  {
   "cell_type": "code",
   "execution_count": 52,
   "id": "98a6b0f8",
   "metadata": {},
   "outputs": [],
   "source": [
    "templateOfDescription='''\n",
    "You are a seasoned marketing copywriter with expertise in persuasive product descriptions and conversion-focused content.\n",
    "\n",
    "Your task is to write a compelling, engaging, and benefit-driven product description based on the following product title:\n",
    "- Product Title: {ProductTitle}\n",
    "\n",
    "The description should:\n",
    "- Expand on the product’s key benefits and what makes it stand out.\n",
    "- Emphasize its value, efficiency, and appeal to the target customer's desires or problems.\n",
    "- Maintain a confident, persuasive marketing tone.\n",
    "- Be concise, ideally between 50 to 100 words.\n",
    "- Be suitable for use on an e-commerce website or digital marketplace.\n",
    "\n",
    "Respond with only the final product description as plain text—no formatting, explanations, or additional output.\n",
    "\n",
    "'''\n",
    "\n",
    "FinalDescriptionPrompt=PromptTemplate(\n",
    "    input_variables=[\"ProductTitle\"],\n",
    "    template=templateOfDescription\n",
    ")"
   ]
  },
  {
   "cell_type": "code",
   "execution_count": 56,
   "id": "8f2a3c5f",
   "metadata": {},
   "outputs": [
    {
     "name": "stdout",
     "output_type": "stream",
     "text": [
      "\n",
      "You are a seasoned marketing copywriter with expertise in persuasive product descriptions and conversion-focused content.\n",
      "\n",
      "Your task is to write a compelling, engaging, and benefit-driven product description based on the following product title:\n",
      "- Product Title: \"Elite Wireless Earbuds - Noise Cancellation, 12-Hour Battery, Bluetooth 5.3\"\n",
      "\n",
      "The description should:\n",
      "- Expand on the product’s key benefits and what makes it stand out.\n",
      "- Emphasize its value, efficiency, and appeal to the target customer's desires or problems.\n",
      "- Maintain a confident, persuasive marketing tone.\n",
      "- Be concise, ideally between 50 to 100 words.\n",
      "- Be suitable for use on an e-commerce website or digital marketplace.\n",
      "\n",
      "Respond with only the final product description as plain text—no formatting, explanations, or additional output.\n",
      "\n",
      "\n"
     ]
    }
   ],
   "source": [
    "print(FinalDescriptionPrompt.format(ProductTitle=resultChain1.content))"
   ]
  },
  {
   "cell_type": "code",
   "execution_count": 60,
   "id": "8bcc54a4",
   "metadata": {},
   "outputs": [],
   "source": [
    "chain2=FinalDescriptionPrompt| groqAiLLM\n",
    "\n",
    "resultChain2=chain2.invoke({\n",
    "    \"ProductTitle\":resultChain1.content\n",
    "})\n"
   ]
  },
  {
   "cell_type": "code",
   "execution_count": 61,
   "id": "ecd772e4",
   "metadata": {},
   "outputs": [
    {
     "data": {
      "text/plain": [
       "'Experience pure audio perfection with Elite Wireless Earbuds, designed to elevate your sound experience. Immerse yourself in crystal-clear, rich audio, while advanced noise cancellation blocks out distractions, letting you focus on what matters. Enjoy uninterrupted listening with a long-lasting 12-hour battery that keeps up with your busiest days. Equipped with Bluetooth 5.3, these earbuds offer a stable, fast connection, ensuring seamless music and calls. Upgrade your audio with a product that combines superior sound quality, efficiency, and style, perfect for any lifestyle.'"
      ]
     },
     "execution_count": 61,
     "metadata": {},
     "output_type": "execute_result"
    }
   ],
   "source": [
    "resultChain2.content"
   ]
  }
 ],
 "metadata": {
  "kernelspec": {
   "display_name": ".venv",
   "language": "python",
   "name": "python3"
  },
  "language_info": {
   "codemirror_mode": {
    "name": "ipython",
    "version": 3
   },
   "file_extension": ".py",
   "mimetype": "text/x-python",
   "name": "python",
   "nbconvert_exporter": "python",
   "pygments_lexer": "ipython3",
   "version": "3.12.3"
  }
 },
 "nbformat": 4,
 "nbformat_minor": 5
}
